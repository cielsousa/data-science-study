{
 "cells": [
  {
   "cell_type": "code",
   "execution_count": 6,
   "metadata": {},
   "outputs": [],
   "source": [
    "import requests\n",
    "from io import BytesIO\n",
    "import zipfile\n",
    "\n",
    "# Url where we can find chalenges about Data Science\n",
    "url = \"https://github.com/GabrielReira/Data-Science-Challenges/archive/refs/heads/main.zip\"\n",
    "\n",
    "# Making a request to take the link's content\n",
    "filebytes = BytesIO(\n",
    "    requests.get(url).content\n",
    ")\n",
    "\n",
    "# Reading file as zipfile and extracting it\n",
    "myzip = zipfile.ZipFile(filebytes)\n",
    "myzip.extractall(\"C:/Users/Ciel/Envs/desafios/Envs/\")"
   ]
  }
 ],
 "metadata": {
  "kernelspec": {
   "display_name": "base",
   "language": "python",
   "name": "python3"
  },
  "language_info": {
   "codemirror_mode": {
    "name": "ipython",
    "version": 3
   },
   "file_extension": ".py",
   "mimetype": "text/x-python",
   "name": "python",
   "nbconvert_exporter": "python",
   "pygments_lexer": "ipython3",
   "version": "3.12.4"
  }
 },
 "nbformat": 4,
 "nbformat_minor": 2
}
